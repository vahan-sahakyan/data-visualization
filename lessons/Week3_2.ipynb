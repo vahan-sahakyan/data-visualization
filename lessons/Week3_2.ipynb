{
 "cells": [
  {
   "cell_type": "code",
   "execution_count": 1,
   "id": "fde334f6-1bf8-4c33-a1a0-1aa395054f26",
   "metadata": {
    "tags": []
   },
   "outputs": [],
   "source": [
    "import pandas as pd\n",
    "import matplotlib.pyplot as plt\n",
    "import numpy as np\n",
    "import seaborn as sns"
   ]
  },
  {
   "cell_type": "code",
   "execution_count": null,
   "id": "04187ba9-0552-4da8-ac58-ab6dac8594f7",
   "metadata": {
    "tags": []
   },
   "outputs": [],
   "source": [
    "taxis = sns.load_dataset('taxis')\n",
    "taxis.head()"
   ]
  },
  {
   "cell_type": "code",
   "execution_count": null,
   "id": "d7b70911-14f2-40fe-88b5-ec8f207adb25",
   "metadata": {
    "tags": []
   },
   "outputs": [],
   "source": [
    "taxis.total.describe()"
   ]
  },
  {
   "cell_type": "code",
   "execution_count": null,
   "id": "d6a2aff0-544e-454c-8ba8-d370d24cc19b",
   "metadata": {
    "tags": []
   },
   "outputs": [],
   "source": [
    "sns.histplot(x='total', data=taxis, bins = 100, \n",
    "             #log_scale=True\n",
    "            )"
   ]
  },
  {
   "cell_type": "code",
   "execution_count": 5,
   "id": "1c590a2f-27df-45a8-a199-1c2ee7235cec",
   "metadata": {
    "tags": []
   },
   "outputs": [],
   "source": [
    "sns.set_style('white')"
   ]
  },
  {
   "cell_type": "code",
   "execution_count": null,
   "id": "e27d7f2e-dcd0-469b-950c-225458e88e0b",
   "metadata": {
    "tags": []
   },
   "outputs": [],
   "source": [
    "fg = sns.FacetGrid(taxis, col = 'pickup_borough',\n",
    "                  row = 'dropoff_borough',\n",
    "                  sharey = False,\n",
    "                  ylim = (0,175),\n",
    "                   hue = 'payment'\n",
    "                  )\n",
    "#fg.map(sns.histplot, 'total')\n",
    "#fg.map_dataframe(sns.histplot, y = 'total')\n",
    "fg.map_dataframe(sns.scatterplot, x = 'distance', y = 'total', \n",
    "               # hue = 'payment'\n",
    "                )\n",
    "fg.set_axis_labels('Trip distance', 'Total payment')\n",
    "#fg.set_titles(col_template='Borough {col_name}')\n",
    "fg.set_titles(col_template='{row_name}',row_template='{col_name}')\n",
    "fg.add_legend();\n"
   ]
  },
  {
   "cell_type": "code",
   "execution_count": 8,
   "id": "d2723ec3-76b9-4a5d-9dfa-55b4129a5aa2",
   "metadata": {
    "tags": []
   },
   "outputs": [],
   "source": [
    "sns.set_style('darkgrid')"
   ]
  },
  {
   "cell_type": "code",
   "execution_count": null,
   "id": "41cd226f-59a3-4028-90aa-43daf30e4ab2",
   "metadata": {
    "tags": []
   },
   "outputs": [],
   "source": [
    "sns.pairplot(taxis)"
   ]
  },
  {
   "cell_type": "code",
   "execution_count": 10,
   "id": "00ab61a7-afe3-45ba-b986-1cb933138b7a",
   "metadata": {
    "tags": []
   },
   "outputs": [],
   "source": [
    "taxis.passengers = taxis.passengers.astype('category')"
   ]
  },
  {
   "cell_type": "code",
   "execution_count": null,
   "id": "0edbe0c9-d8f1-40e6-8ce7-1010e92b64d8",
   "metadata": {
    "tags": []
   },
   "outputs": [],
   "source": [
    "taxis.info()"
   ]
  },
  {
   "cell_type": "code",
   "execution_count": null,
   "id": "2b0c44e2-9b7d-44ae-a76c-39b7d67b8dec",
   "metadata": {
    "tags": []
   },
   "outputs": [],
   "source": [
    "pp = sns.pairplot(taxis, \n",
    "           #  diag_kind = 'kde',\n",
    "           # kind = 'reg',\n",
    "                 )\n",
    "pp.map_upper(sns.regplot)\n",
    "#pp.map_lower(sns.lineplot)\n"
   ]
  },
  {
   "cell_type": "code",
   "execution_count": null,
   "id": "1d9b4bf6-5f05-45d3-a3bf-b2fe9aff0bd8",
   "metadata": {
    "tags": []
   },
   "outputs": [],
   "source": [
    "taxis.pickup.dt.dayofweek.value_counts() # 0 = monday"
   ]
  },
  {
   "cell_type": "code",
   "execution_count": null,
   "id": "154ab8ff-965d-4e5e-84e9-12a1cb857e9c",
   "metadata": {
    "tags": []
   },
   "outputs": [],
   "source": [
    "taxis['weekend'] = taxis.pickup.dt.dayofweek.isin([5, 6])\n",
    "taxis.weekend.value_counts()"
   ]
  },
  {
   "cell_type": "code",
   "execution_count": null,
   "id": "2dff6145-b6d3-486d-96f0-10d4e50f6b6d",
   "metadata": {
    "tags": []
   },
   "outputs": [],
   "source": [
    "pp = sns.pairplot(taxis, vars = ['distance', 'total', 'tip']\n",
    "           #  diag_kind = 'kde',\n",
    "           # kind = 'reg',\n",
    "                 )\n",
    "pp.map_upper(sns.regplot)\n",
    "#pp.map_lower(sns.lineplot)"
   ]
  },
  {
   "cell_type": "code",
   "execution_count": null,
   "id": "018da7f8-d1d3-47ad-ae60-ac4ab7a52dde",
   "metadata": {
    "tags": []
   },
   "outputs": [],
   "source": [
    "tips = sns.load_dataset('tips')\n",
    "tips.head()"
   ]
  },
  {
   "cell_type": "code",
   "execution_count": null,
   "id": "9fcc20eb-b7eb-4bda-9aa3-d9ed2cb61a8b",
   "metadata": {
    "tags": []
   },
   "outputs": [],
   "source": [
    "pp = sns.pairplot(tips, \n",
    "           #  diag_kind = 'kde',\n",
    "           # kind = 'reg',\n",
    "                 )\n",
    "#pp.map_upper(sns.regplot)\n",
    "#pp.map_lower(sns.kdeplot, \n",
    "#             n_levels = 4, \n",
    "#             color = 'r'\n",
    "#            )"
   ]
  },
  {
   "cell_type": "code",
   "execution_count": null,
   "id": "340ed4b4-28d5-46c3-93fe-a99bd9aa717b",
   "metadata": {},
   "outputs": [],
   "source": []
  }
 ],
 "metadata": {
  "kernelspec": {
   "display_name": "Python 3 (ipykernel)",
   "language": "python",
   "name": "python3"
  },
  "language_info": {
   "codemirror_mode": {
    "name": "ipython",
    "version": 3
   },
   "file_extension": ".py",
   "mimetype": "text/x-python",
   "name": "python",
   "nbconvert_exporter": "python",
   "pygments_lexer": "ipython3",
   "version": "3.9.6"
  }
 },
 "nbformat": 4,
 "nbformat_minor": 5
}
